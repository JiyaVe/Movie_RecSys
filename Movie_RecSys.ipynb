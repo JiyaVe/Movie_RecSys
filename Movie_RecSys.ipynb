{
  "nbformat": 4,
  "nbformat_minor": 0,
  "metadata": {
    "colab": {
      "provenance": [],
      "authorship_tag": "ABX9TyMtZgrhUrYsst89EFeP72Q6",
      "include_colab_link": true
    },
    "kernelspec": {
      "name": "python3",
      "display_name": "Python 3"
    },
    "language_info": {
      "name": "python"
    }
  },
  "cells": [
    {
      "cell_type": "markdown",
      "metadata": {
        "id": "view-in-github",
        "colab_type": "text"
      },
      "source": [
        "<a href=\"https://colab.research.google.com/github/JiyaVe/Movie_RecSys/blob/main/Movie_RecSys.ipynb\" target=\"_parent\"><img src=\"https://colab.research.google.com/assets/colab-badge.svg\" alt=\"Open In Colab\"/></a>"
      ]
    },
    {
      "cell_type": "code",
      "source": [
        "# numpy and scupy for maths\n",
        "# lightfm for methods of recSys\n",
        "\n",
        "import numpy as np\n",
        "from lightfm.datasets import fetch_movielens\n",
        "# movielens dataset contain movie ratings\n",
        "from lightfm import LightFM"
      ],
      "metadata": {
        "id": "qQFwITiGgcPR"
      },
      "execution_count": null,
      "outputs": []
    },
    {
      "cell_type": "code",
      "source": [
        "#fetch data and format it\n",
        "\n",
        "data = fetch_movielens(min_rating=4.0)#4 or higher rating\n",
        "#it will create an interaction matrix from the csv file and\n",
        "#store it in the data variable as a dictionary\n",
        "#it also spilts the data into test and train\n",
        "\n",
        "#print training and test data\n",
        "print(repr(data['train']))\n",
        "print(repr(data['test']))"
      ],
      "metadata": {
        "colab": {
          "base_uri": "https://localhost:8080/"
        },
        "id": "DDyx6fhtgc9O",
        "outputId": "b4311180-fcb6-40ce-d9d8-fde5e4bf074f"
      },
      "execution_count": null,
      "outputs": [
        {
          "output_type": "stream",
          "name": "stdout",
          "text": [
            "<943x1682 sparse matrix of type '<class 'numpy.int32'>'\n",
            "\twith 49906 stored elements in COOrdinate format>\n",
            "<943x1682 sparse matrix of type '<class 'numpy.int32'>'\n",
            "\twith 5469 stored elements in COOrdinate format>\n"
          ]
        }
      ]
    },
    {
      "cell_type": "code",
      "source": [
        "data"
      ],
      "metadata": {
        "colab": {
          "base_uri": "https://localhost:8080/"
        },
        "id": "NDOUV6ZZlO8h",
        "outputId": "0342fcb0-b9cd-4811-8e8e-4ff34c15d34b"
      },
      "execution_count": null,
      "outputs": [
        {
          "output_type": "execute_result",
          "data": {
            "text/plain": [
              "{'train': <943x1682 sparse matrix of type '<class 'numpy.float32'>'\n",
              " \twith 49906 stored elements in COOrdinate format>,\n",
              " 'test': <943x1682 sparse matrix of type '<class 'numpy.int32'>'\n",
              " \twith 5469 stored elements in COOrdinate format>,\n",
              " 'item_features': <1682x1682 sparse matrix of type '<class 'numpy.float32'>'\n",
              " \twith 1682 stored elements in Compressed Sparse Row format>,\n",
              " 'item_feature_labels': array(['T', 'G', 'F', ..., 'S', 'Y', 'S'], dtype='<U1'),\n",
              " 'item_labels': array(['T', 'G', 'F', ..., 'S', 'Y', 'S'], dtype='<U1')}"
            ]
          },
          "metadata": {},
          "execution_count": 24
        }
      ]
    },
    {
      "cell_type": "code",
      "source": [
        "#create model\n",
        "model = LightFM(loss = 'warp')\n",
        "#loss function as \"Weighted approximate-rank pairwise\"\n"
      ],
      "metadata": {
        "id": "gvlTQA3bgeuU"
      },
      "execution_count": null,
      "outputs": []
    },
    {
      "cell_type": "code",
      "source": [
        "#train model\n",
        "model.fit(data['train'],epochs = 30,num_threads=2)\n",
        "#data,no.of runs,no.of parallel runs"
      ],
      "metadata": {
        "colab": {
          "base_uri": "https://localhost:8080/"
        },
        "id": "vHNZHIC_gg5n",
        "outputId": "b4a234f5-a6da-43da-a805-9e7ddcd68dc3"
      },
      "execution_count": null,
      "outputs": [
        {
          "output_type": "execute_result",
          "data": {
            "text/plain": [
              "<lightfm.lightfm.LightFM at 0x7b914b4454b0>"
            ]
          },
          "metadata": {},
          "execution_count": 5
        }
      ]
    },
    {
      "cell_type": "code",
      "source": [
        "#sample recsys\n",
        "def sample_rec(model,data,user_ids):\n",
        "  #no. of users and movies in train data\n",
        "  n_users, n_items = data['train'].shape\n",
        "\n",
        "  #generate rec for each user we input\n",
        "  for user_id in user_ids:\n",
        "\n",
        "    #movies they already like\n",
        "    known_positives = data['item_labels'][data['train'].tocsr()[user_id].indices]\n",
        "    #lightfm makes problem binary 4 and less and 5 above\n",
        "\n",
        "    #movies our model predicts they like\n",
        "    scores = model.predict(user_id,np.arange(n_items))\n",
        "\n",
        "    #rank them most to least liked\n",
        "    top_items = data['item_labels'][np.argsort(-scores)]\n",
        "\n",
        "    #print results\n",
        "    print(\"User %s\" % user_id)\n",
        "    print(\"       Known Positives:\")\n",
        "\n",
        "    for x in known_positives[:3]:#top 3\n",
        "      print(\"             %s\"% x)\n",
        "\n",
        "    print(\"       Recommended:\")#top 3\n",
        "\n",
        "    for x in top_items[:3]:\n",
        "      print(\"               %s\"% x)\n",
        "\n"
      ],
      "metadata": {
        "id": "5KuS9J6jg0Y-"
      },
      "execution_count": null,
      "outputs": []
    },
    {
      "cell_type": "code",
      "source": [
        "#call the function\n",
        "sample_rec(model,data,[3,45,670])"
      ],
      "metadata": {
        "colab": {
          "base_uri": "https://localhost:8080/"
        },
        "id": "bOb9w91wjsSE",
        "outputId": "aaa3fac8-cbab-41dc-cb5e-80f3e0fc59fc"
      },
      "execution_count": null,
      "outputs": [
        {
          "output_type": "stream",
          "name": "stdout",
          "text": [
            "User 3\n",
            "       Known Positives:\n",
            "             S\n",
            "             C\n",
            "             S\n",
            "       Recommended:\n",
            "               A\n",
            "               T\n",
            "               S\n",
            "User 45\n",
            "       Known Positives:\n",
            "             T\n",
            "             S\n",
            "             W\n",
            "       Recommended:\n",
            "               C\n",
            "               L\n",
            "               E\n",
            "User 670\n",
            "       Known Positives:\n",
            "             G\n",
            "             G\n",
            "             T\n",
            "       Recommended:\n",
            "               I\n",
            "               S\n",
            "               R\n"
          ]
        }
      ]
    },
    {
      "cell_type": "code",
      "source": [
        "from lightfm.evaluation import precision_at_k"
      ],
      "metadata": {
        "id": "K9abtU1imW4k"
      },
      "execution_count": null,
      "outputs": []
    },
    {
      "cell_type": "markdown",
      "source": [
        "- You can calculate the accuracy of the model using the precision_at_k function from lightfm.evaluation.\n",
        "- Then, calculate the precision at k for the test set, setting k to any number you like (e.g., 10)\n",
        "- This code will return the precision at k. It does this by looking at the top k predictions for each user and calculating what percentage of those were actually in the test set.\n"
      ],
      "metadata": {
        "id": "Oyrwn-zZmwl4"
      }
    },
    {
      "cell_type": "markdown",
      "source": [
        "However, the low precision@k score suggests that while the overall ranking might be good, the model might not be great at identifying the very top recommendations within a short list (k=10)."
      ],
      "metadata": {
        "id": "En7oZrLLnyir"
      }
    },
    {
      "cell_type": "code",
      "source": [
        "precision_at_k(model, data['test'], k=10).mean()"
      ],
      "metadata": {
        "colab": {
          "base_uri": "https://localhost:8080/"
        },
        "id": "hi4nlBEEm-tv",
        "outputId": "60fbc873-919e-4e84-8be3-2785244f4a9b"
      },
      "execution_count": null,
      "outputs": [
        {
          "output_type": "execute_result",
          "data": {
            "text/plain": [
              "0.07815846"
            ]
          },
          "metadata": {},
          "execution_count": 35
        }
      ]
    },
    {
      "cell_type": "code",
      "source": [
        "from lightfm.evaluation import auc_score"
      ],
      "metadata": {
        "id": "au3AkD8TnSbd"
      },
      "execution_count": null,
      "outputs": []
    },
    {
      "source": [
        "auc_score(model, data['test']).mean()"
      ],
      "cell_type": "code",
      "metadata": {
        "colab": {
          "base_uri": "https://localhost:8080/"
        },
        "id": "WW7F8P-3nUGv",
        "outputId": "802eef60-ad10-4044-b22c-d7ac40410a15"
      },
      "execution_count": null,
      "outputs": [
        {
          "output_type": "execute_result",
          "data": {
            "text/plain": [
              "0.9174533"
            ]
          },
          "metadata": {},
          "execution_count": 30
        }
      ]
    }
  ]
}